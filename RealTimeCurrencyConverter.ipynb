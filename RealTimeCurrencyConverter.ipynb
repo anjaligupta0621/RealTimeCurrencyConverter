{
 "cells": [
  {
   "cell_type": "code",
   "execution_count": 1,
   "metadata": {},
   "outputs": [],
   "source": [
    "import requests"
   ]
  },
  {
   "cell_type": "code",
   "execution_count": 3,
   "metadata": {},
   "outputs": [],
   "source": [
    "response = requests.get('https://api.exchangerate-api.com/v4/latest/USD')"
   ]
  },
  {
   "cell_type": "code",
   "execution_count": 5,
   "metadata": {},
   "outputs": [],
   "source": [
    "data = response.json()"
   ]
  },
  {
   "cell_type": "code",
   "execution_count": 8,
   "metadata": {},
   "outputs": [
    {
     "name": "stdout",
     "output_type": "stream",
     "text": [
      "Enter the amount that you want to convert: 42\n",
      "Enter the currency in which you want to convert the amount: eur\n",
      "The amount that you entered in USD is 42.0 and after converting it to EUR, it became 35.55636\n"
     ]
    }
   ],
   "source": [
    "amount = float(input(\"Enter the amount that you want to convert: \"))\n",
    "currency = input(\"Enter the currency in which you want to convert the amount: \").upper()\n",
    "result = data['rates'][currency] * amount\n",
    "print (\"The amount that you entered in USD is {} and after converting it to {}, it became {}\".format(amount,currency,result))"
   ]
  },
  {
   "cell_type": "code",
   "execution_count": null,
   "metadata": {},
   "outputs": [],
   "source": []
  }
 ],
 "metadata": {
  "kernelspec": {
   "display_name": "Python 3",
   "language": "python",
   "name": "python3"
  },
  "language_info": {
   "codemirror_mode": {
    "name": "ipython",
    "version": 3
   },
   "file_extension": ".py",
   "mimetype": "text/x-python",
   "name": "python",
   "nbconvert_exporter": "python",
   "pygments_lexer": "ipython3",
   "version": "3.7.3"
  }
 },
 "nbformat": 4,
 "nbformat_minor": 2
}
